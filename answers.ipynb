{
 "cells": [
  {
   "cell_type": "markdown",
   "metadata": {
    "collapsed": true,
    "pycharm": {
     "name": "#%% md\n"
    }
   },
   "source": [
    "# Bayes' Theorem Answers"
   ]
  },
  {
   "cell_type": "markdown",
   "source": [
    "## Question:\n",
    "> If a user's favorite flavor is chocolate and they are from the South, what is the likelihood that they are a Republican?"
   ],
   "metadata": {
    "collapsed": false,
    "pycharm": {
     "name": "#%% md\n"
    }
   }
  },
  {
   "cell_type": "markdown",
   "source": [
    "Let's take the easy road: instead of trying to solve the big picture (The bonus), let's only solve the one problem.\n",
    "\n",
    "The prompt was solved with pencil, paper, and a calculator. Code blocks were later added to illustrate the steps.\n",
    "\n"
   ],
   "metadata": {
    "collapsed": false,
    "pycharm": {
     "name": "#%% md\n"
    }
   }
  },
  {
   "cell_type": "markdown",
   "source": [
    "## General\n",
    "| Name | Symbol |\n",
    "|---|---|\n",
    "| Republican | 🐘 |\n",
    "| Chocolate Icecream| 🍦 |\n",
    "| South | ⬇️ |\n",
    "| and (union) | ∩ |\n",
    "| given | \\| |"
   ],
   "metadata": {
    "collapsed": false
   }
  },
  {
   "cell_type": "markdown",
   "source": [
    "## Step by step\n",
    "$ P(A|B) = \\frac {P(A) P(B|A)}{P(B)} $\n",
    "\n",
    "$ P(🐘|🍦 ∩ ⬇) = \\frac {P(🐘) P(🍦 ∩ ⬇|🐘)}{P(🍦 ∩ ⬇)} $"
   ],
   "metadata": {
    "collapsed": false
   }
  },
  {
   "cell_type": "code",
   "source": [
    "# Calculate the probability of being a Republican P(🐘)\n",
    "\n",
    "# |         | Population | Repub % | % of population |\n",
    "# |---------|------------|---------|-----------------|\n",
    "# | NE      | 17.8       | 37      | 0.06586         |\n",
    "# | Midwest | 21.6       | 44      | 0.09504         |\n",
    "# | West    | 23.4       | 45      | 0.1053          |\n",
    "# | South   | 37.2       | 51      | 0.18972         |\n",
    "#\n",
    "# The % of populations were summed, resulting in\n",
    "\n",
    "# P(🐘) = 45.592%"
   ],
   "metadata": {
    "collapsed": false,
    "pycharm": {
     "name": "#%%\n"
    }
   },
   "execution_count": null,
   "outputs": []
  },
  {
   "cell_type": "markdown",
   "source": [
    "$ P(🐘|🍦 ∩ ⬇) = \\frac {.45592 P(🍦 ∩ ⬇|🐘)}{P(🍦 ∩ ⬇)} $"
   ],
   "metadata": {
    "collapsed": false,
    "pycharm": {
     "name": "#%% md\n"
    }
   }
  },
  {
   "cell_type": "code",
   "source": [
    "# Calculate the probability of the union of\n",
    "# liking chocolate best and being from the south P(🍦 ∩ ⬇)\n",
    "\n",
    "# P(🍦∩⬇) = P(🍦) * P(⬇) = .372 * .28\n",
    "\n",
    "# P(🍦∩⬇) = 10.416%"
   ],
   "metadata": {
    "collapsed": false,
    "pycharm": {
     "name": "#%%\n"
    }
   },
   "execution_count": null,
   "outputs": []
  },
  {
   "cell_type": "markdown",
   "source": [
    "$ P(🐘|🍦 ∩ ⬇) = \\frac {.45592 P(🍦 ∩ ⬇|🐘)}{.10416)} $"
   ],
   "metadata": {
    "collapsed": false
   }
  },
  {
   "cell_type": "code",
   "source": [
    "# Calculate the probability of liking chocolate and being from the south\n",
    "# given being republican\n",
    "\n",
    "# P(🍦∩⬇|🐘) = [P(🍦∩⬇) * P(🐘|🍦∩⬇)] / P[🐘]\n",
    "\n",
    "# First calculate south given republican\n",
    "# P(⬇|🐘) = [P(⬇) * P(🐘|⬇)] / P(🐘)\n",
    "# P(⬇|🐘) = [.372 * .51] / .45592\n",
    "# P(⬇|🐘) = 0.4161256\n",
    "# Chocolate given republican (given)\n",
    "# P(🍦|🐘) = .32\n",
    "\n",
    "# P(⬇|🐘∩🍦) = P(⬇|🐘) * P(🍦|🐘) = 0.4161256 * .32\n",
    "# P(⬇|🐘∩🍦) = 0.1331602"
   ],
   "metadata": {
    "collapsed": false,
    "pycharm": {
     "name": "#%%\n"
    }
   },
   "execution_count": null,
   "outputs": []
  },
  {
   "cell_type": "markdown",
   "source": [
    "$ P(🐘|🍦 ∩ ⬇) = \\frac {.45592 * 0.1331602}{.10416)} = 58.29\\% $\n",
    "# Answer\n",
    "You can say a user is Republican given their favorite flavor is chocolate and they're from the South 58.28% of the time."
   ],
   "metadata": {
    "collapsed": false
   }
  }
 ],
 "metadata": {
  "kernelspec": {
   "display_name": "Python 3",
   "language": "python",
   "name": "python3"
  },
  "language_info": {
   "codemirror_mode": {
    "name": "ipython",
    "version": 2
   },
   "file_extension": ".py",
   "mimetype": "text/x-python",
   "name": "python",
   "nbconvert_exporter": "python",
   "pygments_lexer": "ipython2",
   "version": "2.7.6"
  }
 },
 "nbformat": 4,
 "nbformat_minor": 0
}