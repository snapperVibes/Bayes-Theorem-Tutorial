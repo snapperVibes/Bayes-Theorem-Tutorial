{
 "cells": [
  {
   "cell_type": "markdown",
   "metadata": {
    "collapsed": true,
    "pycharm": {
     "name": "#%% md\n"
    }
   },
   "source": [
    "# Homework\n",
    "The year is 2012. You run a popular ice cream forum. You are hoping to leverage your user data to sell advertisements.\n",
    "\n",
    "Each user lists their geographical region and their favorite flavor of ice cream on their profile.\n",
    "\n",
    "\n",
    "### Data\n",
    "#### Icecream Poll\n",
    "\n",
    "|Flavor                             |Total 2009|Total 2011|East|Midwest|South|West|Rep.|Dem.|Ind.|\n",
    "|-----------------------------------|----------|----------|----|-------|-----|----|----|----|----|\n",
    "|Chocolate                          |27        |28        |31  |32     |28   |21  |32  |23  |30  |\n",
    "|Vanilla                            |22        |26        |27  |22     |30   |22  |28  |26  |22  |\n",
    "|Cookie Dough/ Cookies and cream    |22        |22        |26  |22     |21   |19  |24  |18  |24  |\n",
    "|Butter Pecan/ Swiss Almond         |20        |19        |12  |24     |21   |15  |15  |22  |19  |\n",
    "|Mint Chocolate Chip                |17        |15        |15  |15     |15   |15  |16  |12  |16  |\n",
    "|Strawberry                         |13        |12        |8   |10     |15   |12  |10  |13  |12  |\n",
    "|Rocky Road                         |14        |11        |8   |11     |8    |19  |14  |11  |9   |\n",
    "|Coffee                             |9         |9         |10  |7      |6    |14  |7   |11  |8   |\n",
    "|Peanut Butter                      |8         |8         |10  |9      |7    |8   |12  |5   |8   |\n",
    "|Cherry Vanilla                     |9         |7         |10  |6      |7    |7   |6   |10  |8   |\n",
    "|Pistachio                          |8         |7         |7   |6      |6    |8   |5   |9   |6   |\n",
    "|Black Raspberry                    |6         |6         |10  |6      |3    |6   |7   |5   |6   |\n",
    "|Peach                              |4         |5         |6   |4      |7    |3   |5   |7   |4   |\n",
    "|Seasonal, such as pumpkin or eggnog|2         |4         |4   |4      |5    |4   |5   |3   |5   |\n",
    "|Other                              |9         |13        |13  |12     |13   |15  |9   |16  |13  |\n",
    "|Do not eat ice cream               |3         |3         |1   |3      |2    |5   |2   |3   |3   |\n",
    "\n",
    "https://www.prnewswire.com/news-releases/chocolate-vanilla-americans-favorite-flavor-is-chocolate-for-ice-cream-127463338.html\n",
    "\n",
    "Each column is the percentage of each demographic that had noted that row's flavor as their favorite (affording rounding).\n",
    "\n",
    "The data has been weighted to reflect the composition of the adult population.\n",
    "Assume that the number of people who took this survey from each geographical region relates directly to the number of people who live in the region.\n",
    "\n",
    "You decide to ignore the notice on the bottom of the page.\n",
    "> The results of this Harris Poll may not be used in advertising, marketing or promotion without the prior written permission of Harris Interactive.\n",
    "\n",
    "#### 2011 Census Data\n",
    "|Region|Population|\n",
    "|---|-----|\n",
    "|Northeast|17.8%|\n",
    "|Midwest|21.6%|\n",
    "|West|23.4%|\n",
    "|South|37.2%|\n",
    "\n",
    "https://www.census.gov/popclock/data_tables.php?component=growth\n",
    "\n",
    "Make the assumption Northeast in this table is east in the others\n",
    "#### 2012 Polling Data\n",
    "| Region | Obama | Romney | Other |\n",
    "|--------|-------|--------|-------|\n",
    "| East | 53 | 37 | 10 |\n",
    "| Midwest | 46 | 44 | 10 |\n",
    "| South | 41 | 51| 8 |\n",
    "| West | 47 | 45 | 8 |\n",
    "\n",
    "https://news.gallup.com/poll/155597/midwest-west-competitive-regions-2012-election.aspx\n",
    "\n",
    "Make the assumption that a person votes upon party lines.\n",
    "## Goal\n",
    "\n",
    "If a user's favorite flavor is chocolate and they are from the South, what is the likelihood that they are a Republican?\n",
    "\n",
    "### Feeling fancy? (Bonus)\n",
    "Given any user's favorite flavor and region, what is the likelihood they belong to a particular political party?\n",
    "\n",
    "Participants were actually asked to rank their top 2 flavors (for the purpose of the assignment, we assumed they only ranked one).\n",
    "Are you still able to calculate the likelihood of belonging to a particular party?"
   ]
  },
  {
   "cell_type": "code",
   "execution_count": 1,
   "outputs": [],
   "source": [
    "# Starting code; Not necessary unless trying for the bonus\n",
    "import pandas as pd"
   ],
   "metadata": {
    "collapsed": false,
    "pycharm": {
     "name": "#%% Imports\n"
    }
   }
  },
  {
   "cell_type": "code",
   "execution_count": 2,
   "outputs": [],
   "source": [
    "icecream_df = pd.read_csv(\"icecream.csv\")\n",
    "census_df = pd.read_csv(\"census.csv\")\n",
    "gallop_df = pd.read_csv(\"gallop.csv\")"
   ],
   "metadata": {
    "collapsed": false,
    "pycharm": {
     "name": "#%% Datasets\n"
    }
   }
  },
  {
   "cell_type": "code",
   "source": [
    "icecream_df"
   ],
   "metadata": {
    "collapsed": false,
    "pycharm": {
     "name": "#%%\n"
    }
   },
   "execution_count": 3,
   "outputs": [
    {
     "data": {
      "text/plain": "                                Flavor  Total 2009  Total 2011  East  Midwest  \\\n0                            Chocolate          27          28    31       32   \n1                              Vanilla          22          26    27       22   \n2      Cookie Dough/ Cookies and cream          22          22    26       22   \n3           Butter Pecan/ Swiss Almond          20          19    12       24   \n4                  Mint Chocolate Chip          17          15    15       15   \n5                           Strawberry          13          12     8       10   \n6                           Rocky Road          14          11     8       11   \n7                               Coffee           9           9    10        7   \n8                        Peanut Butter           8           8    10        9   \n9                       Cherry Vanilla           9           7    10        6   \n10                           Pistachio           8           7     7        6   \n11                     Black Raspberry           6           6    10        6   \n12                               Peach           4           5     6        4   \n13  Seasonal such as pumpkin or eggnog           2           4     4        4   \n14                               Other           9          13    13       12   \n15                Do not eat ice cream           3           3     1        3   \n\n    South  West  Rep.  Dem.  Ind.  \n0      28    21    32    23    30  \n1      30    22    28    26    22  \n2      21    19    24    18    24  \n3      21    15    15    22    19  \n4      15    15    16    12    16  \n5      15    12    10    13    12  \n6       8    19    14    11     9  \n7       6    14     7    11     8  \n8       7     8    12     5     8  \n9       7     7     6    10     8  \n10      6     8     5     9     6  \n11      3     6     7     5     6  \n12      7     3     5     7     4  \n13      5     4     5     3     5  \n14     13    15     9    16    13  \n15      2     5     2     3     3  ",
      "text/html": "<div>\n<style scoped>\n    .dataframe tbody tr th:only-of-type {\n        vertical-align: middle;\n    }\n\n    .dataframe tbody tr th {\n        vertical-align: top;\n    }\n\n    .dataframe thead th {\n        text-align: right;\n    }\n</style>\n<table border=\"1\" class=\"dataframe\">\n  <thead>\n    <tr style=\"text-align: right;\">\n      <th></th>\n      <th>Flavor</th>\n      <th>Total 2009</th>\n      <th>Total 2011</th>\n      <th>East</th>\n      <th>Midwest</th>\n      <th>South</th>\n      <th>West</th>\n      <th>Rep.</th>\n      <th>Dem.</th>\n      <th>Ind.</th>\n    </tr>\n  </thead>\n  <tbody>\n    <tr>\n      <th>0</th>\n      <td>Chocolate</td>\n      <td>27</td>\n      <td>28</td>\n      <td>31</td>\n      <td>32</td>\n      <td>28</td>\n      <td>21</td>\n      <td>32</td>\n      <td>23</td>\n      <td>30</td>\n    </tr>\n    <tr>\n      <th>1</th>\n      <td>Vanilla</td>\n      <td>22</td>\n      <td>26</td>\n      <td>27</td>\n      <td>22</td>\n      <td>30</td>\n      <td>22</td>\n      <td>28</td>\n      <td>26</td>\n      <td>22</td>\n    </tr>\n    <tr>\n      <th>2</th>\n      <td>Cookie Dough/ Cookies and cream</td>\n      <td>22</td>\n      <td>22</td>\n      <td>26</td>\n      <td>22</td>\n      <td>21</td>\n      <td>19</td>\n      <td>24</td>\n      <td>18</td>\n      <td>24</td>\n    </tr>\n    <tr>\n      <th>3</th>\n      <td>Butter Pecan/ Swiss Almond</td>\n      <td>20</td>\n      <td>19</td>\n      <td>12</td>\n      <td>24</td>\n      <td>21</td>\n      <td>15</td>\n      <td>15</td>\n      <td>22</td>\n      <td>19</td>\n    </tr>\n    <tr>\n      <th>4</th>\n      <td>Mint Chocolate Chip</td>\n      <td>17</td>\n      <td>15</td>\n      <td>15</td>\n      <td>15</td>\n      <td>15</td>\n      <td>15</td>\n      <td>16</td>\n      <td>12</td>\n      <td>16</td>\n    </tr>\n    <tr>\n      <th>5</th>\n      <td>Strawberry</td>\n      <td>13</td>\n      <td>12</td>\n      <td>8</td>\n      <td>10</td>\n      <td>15</td>\n      <td>12</td>\n      <td>10</td>\n      <td>13</td>\n      <td>12</td>\n    </tr>\n    <tr>\n      <th>6</th>\n      <td>Rocky Road</td>\n      <td>14</td>\n      <td>11</td>\n      <td>8</td>\n      <td>11</td>\n      <td>8</td>\n      <td>19</td>\n      <td>14</td>\n      <td>11</td>\n      <td>9</td>\n    </tr>\n    <tr>\n      <th>7</th>\n      <td>Coffee</td>\n      <td>9</td>\n      <td>9</td>\n      <td>10</td>\n      <td>7</td>\n      <td>6</td>\n      <td>14</td>\n      <td>7</td>\n      <td>11</td>\n      <td>8</td>\n    </tr>\n    <tr>\n      <th>8</th>\n      <td>Peanut Butter</td>\n      <td>8</td>\n      <td>8</td>\n      <td>10</td>\n      <td>9</td>\n      <td>7</td>\n      <td>8</td>\n      <td>12</td>\n      <td>5</td>\n      <td>8</td>\n    </tr>\n    <tr>\n      <th>9</th>\n      <td>Cherry Vanilla</td>\n      <td>9</td>\n      <td>7</td>\n      <td>10</td>\n      <td>6</td>\n      <td>7</td>\n      <td>7</td>\n      <td>6</td>\n      <td>10</td>\n      <td>8</td>\n    </tr>\n    <tr>\n      <th>10</th>\n      <td>Pistachio</td>\n      <td>8</td>\n      <td>7</td>\n      <td>7</td>\n      <td>6</td>\n      <td>6</td>\n      <td>8</td>\n      <td>5</td>\n      <td>9</td>\n      <td>6</td>\n    </tr>\n    <tr>\n      <th>11</th>\n      <td>Black Raspberry</td>\n      <td>6</td>\n      <td>6</td>\n      <td>10</td>\n      <td>6</td>\n      <td>3</td>\n      <td>6</td>\n      <td>7</td>\n      <td>5</td>\n      <td>6</td>\n    </tr>\n    <tr>\n      <th>12</th>\n      <td>Peach</td>\n      <td>4</td>\n      <td>5</td>\n      <td>6</td>\n      <td>4</td>\n      <td>7</td>\n      <td>3</td>\n      <td>5</td>\n      <td>7</td>\n      <td>4</td>\n    </tr>\n    <tr>\n      <th>13</th>\n      <td>Seasonal such as pumpkin or eggnog</td>\n      <td>2</td>\n      <td>4</td>\n      <td>4</td>\n      <td>4</td>\n      <td>5</td>\n      <td>4</td>\n      <td>5</td>\n      <td>3</td>\n      <td>5</td>\n    </tr>\n    <tr>\n      <th>14</th>\n      <td>Other</td>\n      <td>9</td>\n      <td>13</td>\n      <td>13</td>\n      <td>12</td>\n      <td>13</td>\n      <td>15</td>\n      <td>9</td>\n      <td>16</td>\n      <td>13</td>\n    </tr>\n    <tr>\n      <th>15</th>\n      <td>Do not eat ice cream</td>\n      <td>3</td>\n      <td>3</td>\n      <td>1</td>\n      <td>3</td>\n      <td>2</td>\n      <td>5</td>\n      <td>2</td>\n      <td>3</td>\n      <td>3</td>\n    </tr>\n  </tbody>\n</table>\n</div>"
     },
     "execution_count": 3,
     "metadata": {},
     "output_type": "execute_result"
    }
   ]
  },
  {
   "cell_type": "code",
   "execution_count": 4,
   "outputs": [
    {
     "data": {
      "text/plain": "      Region Population\n0  Northeast      17.8%\n1    Midwest      21.6%\n2       West      23.4%\n3      South      37.2%",
      "text/html": "<div>\n<style scoped>\n    .dataframe tbody tr th:only-of-type {\n        vertical-align: middle;\n    }\n\n    .dataframe tbody tr th {\n        vertical-align: top;\n    }\n\n    .dataframe thead th {\n        text-align: right;\n    }\n</style>\n<table border=\"1\" class=\"dataframe\">\n  <thead>\n    <tr style=\"text-align: right;\">\n      <th></th>\n      <th>Region</th>\n      <th>Population</th>\n    </tr>\n  </thead>\n  <tbody>\n    <tr>\n      <th>0</th>\n      <td>Northeast</td>\n      <td>17.8%</td>\n    </tr>\n    <tr>\n      <th>1</th>\n      <td>Midwest</td>\n      <td>21.6%</td>\n    </tr>\n    <tr>\n      <th>2</th>\n      <td>West</td>\n      <td>23.4%</td>\n    </tr>\n    <tr>\n      <th>3</th>\n      <td>South</td>\n      <td>37.2%</td>\n    </tr>\n  </tbody>\n</table>\n</div>"
     },
     "execution_count": 4,
     "metadata": {},
     "output_type": "execute_result"
    }
   ],
   "source": [
    "census_df"
   ],
   "metadata": {
    "collapsed": false,
    "pycharm": {
     "name": "#%%\n"
    }
   }
  },
  {
   "cell_type": "code",
   "execution_count": 5,
   "outputs": [
    {
     "data": {
      "text/plain": "    Region  Obama  Romney  Other\n0     East     53      37     10\n1  Midwest     46      44     10\n2    South     41      51      8\n3     West     47      45      8",
      "text/html": "<div>\n<style scoped>\n    .dataframe tbody tr th:only-of-type {\n        vertical-align: middle;\n    }\n\n    .dataframe tbody tr th {\n        vertical-align: top;\n    }\n\n    .dataframe thead th {\n        text-align: right;\n    }\n</style>\n<table border=\"1\" class=\"dataframe\">\n  <thead>\n    <tr style=\"text-align: right;\">\n      <th></th>\n      <th>Region</th>\n      <th>Obama</th>\n      <th>Romney</th>\n      <th>Other</th>\n    </tr>\n  </thead>\n  <tbody>\n    <tr>\n      <th>0</th>\n      <td>East</td>\n      <td>53</td>\n      <td>37</td>\n      <td>10</td>\n    </tr>\n    <tr>\n      <th>1</th>\n      <td>Midwest</td>\n      <td>46</td>\n      <td>44</td>\n      <td>10</td>\n    </tr>\n    <tr>\n      <th>2</th>\n      <td>South</td>\n      <td>41</td>\n      <td>51</td>\n      <td>8</td>\n    </tr>\n    <tr>\n      <th>3</th>\n      <td>West</td>\n      <td>47</td>\n      <td>45</td>\n      <td>8</td>\n    </tr>\n  </tbody>\n</table>\n</div>"
     },
     "execution_count": 5,
     "metadata": {},
     "output_type": "execute_result"
    }
   ],
   "source": [
    "gallop_df"
   ],
   "metadata": {
    "collapsed": false,
    "pycharm": {
     "name": "#%%\n"
    }
   }
  }
 ],
 "metadata": {
  "kernelspec": {
   "display_name": "Python 3",
   "language": "python",
   "name": "python3"
  },
  "language_info": {
   "codemirror_mode": {
    "name": "ipython",
    "version": 2
   },
   "file_extension": ".py",
   "mimetype": "text/x-python",
   "name": "python",
   "nbconvert_exporter": "python",
   "pygments_lexer": "ipython2",
   "version": "2.7.6"
  }
 },
 "nbformat": 4,
 "nbformat_minor": 0
}